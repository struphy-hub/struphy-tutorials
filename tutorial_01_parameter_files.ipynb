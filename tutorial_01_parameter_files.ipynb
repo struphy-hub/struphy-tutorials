{
 "cells": [
  {
   "cell_type": "markdown",
   "id": "0",
   "metadata": {},
   "source": [
    "# 1 - Parameters and `struphy.main`\n",
    "\n",
    "Struphy is a collection of \"models\". Each model is a parallelized simulation code for a physics model described py a set partial differntial equations (PDEs).\n",
    "Check the documentation for a [list of currently available models](https://struphy.pages.mpcdf.de/struphy/sections/models.html).\n",
    "A model is launched through its parameter file, where all simulation parameters can be specified.\n",
    "\n",
    "Model parameter files are Python scripts (.py) that can be executed with the Python interpreter.\n",
    "For each `MODEL`, the default parameter file can be generated from the console:\n",
    "\n",
    "```\n",
    "struphy params MODEL\n",
    "```\n",
    "\n",
    "This will create a file `params_MODEL.py` in the current working directory. To run the model type\n",
    "\n",
    "```\n",
    "python3 params_MODEL.py\n",
    "```\n",
    "\n",
    "One can modify the parameter file to launch a specific simulation.\n",
    "For example, the parameter file of the model [Vlasov](https://struphy.pages.mpcdf.de/struphy/sections/subsections/models_toy.html#struphy.models.toy.Vlasov) can be generated from\n",
    "\n",
    "```\n",
    "struphy params Vlasov\n",
    "```\n",
    "\n",
    "To see its contents, open the file in your preferred editor or type\n",
    "\n",
    "```\n",
    "cat params_Vlasov.py\n",
    "```\n",
    "\n",
    "We shall discuss this parameter file in what follows. Parameter files of all models have a similar structure.\n",
    "\n",
    "## Part 1: Imports"
   ]
  },
  {
   "cell_type": "code",
   "execution_count": null,
   "id": "1",
   "metadata": {},
   "outputs": [],
   "source": [
    "from struphy import main\n",
    "from struphy.fields_background import equils\n",
    "from struphy.geometry import domains\n",
    "from struphy.initial import perturbations\n",
    "from struphy.io.options import BaseUnits, DerhamOptions, EnvironmentOptions, FieldsBackground, Time\n",
    "from struphy.kinetic_background import maxwellians\n",
    "\n",
    "# import model, set verbosity\n",
    "from struphy.models.toy import Vlasov\n",
    "from struphy.pic.utilities import (\n",
    "    BinningPlot,\n",
    "    BoundaryParameters,\n",
    "    KernelDensityPlot,\n",
    "    LoadingParameters,\n",
    "    WeightsParameters,\n",
    ")\n",
    "from struphy.topology import grids"
   ]
  },
  {
   "cell_type": "markdown",
   "id": "2",
   "metadata": {},
   "source": [
    "All parameter files import the modules listed above, even though some of them might not be needed in a specific model. \n",
    "The last import imports the model itself.\n",
    "\n",
    "## Part 2: Generic options\n",
    "\n",
    "The following lines refer to options that can be set for any model. These are:\n",
    "\n",
    "* Environment options (paths, saving, domain cloning)\n",
    "* Model units\n",
    "* Time options\n",
    "* Problem geometry (mapped domain)\n",
    "* Static background (equilibrium) \n",
    "* Grid \n",
    "* Derham complex\n",
    "\n",
    "Check the respective classes for possible options."
   ]
  },
  {
   "cell_type": "code",
   "execution_count": null,
   "id": "3",
   "metadata": {},
   "outputs": [],
   "source": [
    "# environment options\n",
    "env = EnvironmentOptions()\n",
    "\n",
    "# units\n",
    "base_units = BaseUnits()\n",
    "\n",
    "# time stepping\n",
    "time_opts = Time(dt=0.2, Tend=10.0)\n",
    "\n",
    "# geometry\n",
    "l1 = -5.0\n",
    "r1 = 5.0\n",
    "l2 = -7.0\n",
    "r2 = 7.0\n",
    "l3 = -1.0\n",
    "r3 = 1.0\n",
    "domain = domains.Cuboid(l1=l1, r1=r1, l2=l2, r2=r2, l3=l3, r3=r3)\n",
    "\n",
    "# fluid equilibrium (can be used as part of initial conditions)\n",
    "equil = None\n",
    "\n",
    "# grid\n",
    "grid = grids.TensorProductGrid()\n",
    "\n",
    "# derham options\n",
    "derham_opts = DerhamOptions()"
   ]
  },
  {
   "cell_type": "markdown",
   "id": "4",
   "metadata": {},
   "source": [
    "## Part 3: Model instance\n",
    "\n",
    "A model has a predefined number of \"species\". Each species is a collection of \"variables\", which are the unknowns of the model.\n",
    "In the parameter file, a light-weight instance of the model is created, without allocating memory. \n",
    "The light-weight instance is used to set some model-specific parameters for each species.\n",
    "\n",
    "For instance, for each species one can set its charge- and mass number:"
   ]
  },
  {
   "cell_type": "code",
   "execution_count": null,
   "id": "5",
   "metadata": {},
   "outputs": [],
   "source": [
    "# light-weight model instance\n",
    "model = Vlasov()\n",
    "\n",
    "# species parameters\n",
    "model.kinetic_ions.set_phys_params(charge_number=3, mass_number=12)"
   ]
  },
  {
   "cell_type": "markdown",
   "id": "6",
   "metadata": {},
   "source": [
    "In case of a kinetic species, one can also set parameters regarding marker drawing, box sorting and data saving: "
   ]
  },
  {
   "cell_type": "code",
   "execution_count": null,
   "id": "7",
   "metadata": {},
   "outputs": [],
   "source": [
    "loading_params = LoadingParameters(Np=15)\n",
    "weights_params = WeightsParameters()\n",
    "boundary_params = BoundaryParameters(bc=(\"reflect\", \"reflect\", \"periodic\"))\n",
    "model.kinetic_ions.set_markers(\n",
    "    loading_params=loading_params, weights_params=weights_params, boundary_params=boundary_params\n",
    ")\n",
    "\n",
    "model.kinetic_ions.set_sorting_boxes()\n",
    "model.kinetic_ions.set_save_data(n_markers=1.0)"
   ]
  },
  {
   "cell_type": "markdown",
   "id": "8",
   "metadata": {},
   "source": [
    "## Part 4: Propagator options\n",
    "\n",
    "A model is a collection of \"propagators\" which perform the time stepping. Each propagator refers to part of a single time step and can be viewed as a splitting step. For instance, if only a single propagator is present in a model, then all variables of the model are updated by this propagator. If two or more propagators are present, they are executed in sequence, according to the chosen splitting algorithm (Lie-Trotter, Strang, etc.).\n",
    "\n",
    "Each propagator has options that can be set in the parameter file as follows:"
   ]
  },
  {
   "cell_type": "code",
   "execution_count": null,
   "id": "9",
   "metadata": {},
   "outputs": [],
   "source": [
    "# propagator options\n",
    "model.propagators.push_vxb.options = model.propagators.push_vxb.Options()\n",
    "model.propagators.push_eta.options = model.propagators.push_eta.Options()"
   ]
  },
  {
   "cell_type": "markdown",
   "id": "10",
   "metadata": {},
   "source": [
    "## Part 5: Initial conditions\n",
    "\n",
    "One can use the methods `Variable.add_background()` and `Variable.add_perturbation()` to set initial conditions for each variable of a species. Variables that are not specified are intialized as zero."
   ]
  },
  {
   "cell_type": "code",
   "execution_count": null,
   "id": "11",
   "metadata": {},
   "outputs": [],
   "source": [
    "# initial conditions (background + perturbation)\n",
    "perturbation = None\n",
    "\n",
    "background = maxwellians.Maxwellian3D(n=(1.0, perturbation))\n",
    "model.kinetic_ions.var.add_background(background)"
   ]
  },
  {
   "cell_type": "markdown",
   "id": "12",
   "metadata": {},
   "source": [
    "## Part 6: `main.run`\n",
    "\n",
    "In the final part of the parameter file, the `main.run` command is invoked. This command will allocate memory and run the specified simulation. The run command is not executed when the parameter file is imported in another Python script. The `verbose` flag controls the screen output during the simulation run."
   ]
  },
  {
   "cell_type": "code",
   "execution_count": null,
   "id": "13",
   "metadata": {},
   "outputs": [],
   "source": [
    "verbose = True\n",
    "\n",
    "main.run(\n",
    "    model,\n",
    "    params_path=None,\n",
    "    env=env,\n",
    "    base_units=base_units,\n",
    "    time_opts=time_opts,\n",
    "    domain=domain,\n",
    "    equil=equil,\n",
    "    grid=grid,\n",
    "    derham_opts=derham_opts,\n",
    "    verbose=verbose,\n",
    ")"
   ]
  },
  {
   "cell_type": "markdown",
   "id": "14",
   "metadata": {},
   "source": [
    "## Post processing: `main.pproc`\n",
    "\n",
    "Aside from `run`, the Struphy `main` module has also a `pproc` routine for post-processing of raw simulation data:"
   ]
  },
  {
   "cell_type": "code",
   "execution_count": null,
   "id": "15",
   "metadata": {},
   "outputs": [],
   "source": [
    "import os\n",
    "\n",
    "path = os.path.join(os.getcwd(), \"sim_1\")\n",
    "\n",
    "main.pproc(path)"
   ]
  },
  {
   "cell_type": "markdown",
   "id": "16",
   "metadata": {},
   "source": [
    "One can also post-process directly from the console:\n",
    "\n",
    "```\n",
    "struphy pproc sim_1\n",
    "```\n",
    "\n",
    "Type \n",
    "\n",
    "```\n",
    "struphy pproc -h\n",
    "```\n",
    "\n",
    "for more info on this command."
   ]
  },
  {
   "cell_type": "markdown",
   "id": "17",
   "metadata": {},
   "source": [
    "## Loading data: `main.load_data`\n",
    "\n",
    "After post-processing, the generated data can be loaded via `main.load_data`. This function returns a `SimData` object, which you can inspect to get further info on possible data to load."
   ]
  },
  {
   "cell_type": "code",
   "execution_count": null,
   "id": "18",
   "metadata": {},
   "outputs": [],
   "source": [
    "simdata = main.load_data(path)"
   ]
  },
  {
   "cell_type": "markdown",
   "id": "19",
   "metadata": {},
   "source": [
    "## Plotting particle orbits\n",
    "\n",
    "In this example, for the species `kinetic_ions` some particle orbits have been saved. Under `simdata.orbits[<species_name>]` one finds a three-dimensional numpy array; the first index refers to the time step, the second index to the particle and the third index to the particel attribute. The first three attributes are the particle positions, followed by the velocities and the (initial and time-dependent) weights."
   ]
  },
  {
   "cell_type": "code",
   "execution_count": null,
   "id": "20",
   "metadata": {},
   "outputs": [],
   "source": [
    "orbits = simdata.orbits[\"kinetic_ions\"]\n",
    "\n",
    "Nt = simdata.Nt[\"kinetic_ions\"]\n",
    "Np = simdata.Np[\"kinetic_ions\"]\n",
    "Nattr = simdata.Nattr[\"kinetic_ions\"]"
   ]
  },
  {
   "cell_type": "markdown",
   "id": "21",
   "metadata": {},
   "source": [
    "Let us plot the orbits:"
   ]
  },
  {
   "cell_type": "code",
   "execution_count": null,
   "id": "22",
   "metadata": {},
   "outputs": [],
   "source": [
    "import numpy as np\n",
    "from matplotlib import pyplot as plt\n",
    "\n",
    "fig = plt.figure()\n",
    "ax = fig.gca()\n",
    "\n",
    "colors = [\"tab:blue\", \"tab:orange\", \"tab:green\", \"tab:red\"]\n",
    "\n",
    "# create alpha for color scaling\n",
    "Tend = time_opts.Tend\n",
    "alpha = np.linspace(1.0, 0.0, Nt + 1)\n",
    "\n",
    "# loop through particles, plot all time steps\n",
    "for i in range(Np):\n",
    "    ax.scatter(orbits[:, i, 0], orbits[:, i, 1], c=colors[i % 4], alpha=alpha)\n",
    "\n",
    "ax.plot([l1, l1], [l2, r2], \"k\")\n",
    "ax.plot([r1, r1], [l2, r2], \"k\")\n",
    "ax.plot([l1, r1], [l2, l2], \"k\")\n",
    "ax.plot([l1, r1], [r2, r2], \"k\")\n",
    "ax.set_xlabel(\"x\")\n",
    "ax.set_ylabel(\"y\")\n",
    "ax.set_xlim(-6.5, 6.5)\n",
    "ax.set_ylim(-9, 9)\n",
    "ax.set_title(f\"{int(Nt - 1)} time steps (full color at t=0)\");"
   ]
  }
 ],
 "metadata": {
  "kernelspec": {
   "display_name": "env",
   "language": "python",
   "name": "python3"
  },
  "language_info": {
   "codemirror_mode": {
    "name": "ipython",
    "version": 3
   },
   "file_extension": ".py",
   "mimetype": "text/x-python",
   "name": "python",
   "nbconvert_exporter": "python",
   "pygments_lexer": "ipython3",
   "version": "3.12.3"
  }
 },
 "nbformat": 4,
 "nbformat_minor": 5
}
